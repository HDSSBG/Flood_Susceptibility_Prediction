{
 "cells": [
  {
   "cell_type": "code",
   "execution_count": 1,
   "id": "46e666e7",
   "metadata": {},
   "outputs": [],
   "source": [
    "import numpy as np\n",
    "from sklearn.pipeline import make_pipeline\n",
    "from sklearn.preprocessing import StandardScaler\n",
    "from sklearn.svm import SVC\n",
    "import pandas as pd\n",
    "#from mlxtend.plotting import plot_decision_regions\n",
    "import matplotlib.pyplot as plt \n",
    "from netCDF4 import Dataset\n",
    "from sklearn.feature_selection import mutual_info_classif"
   ]
  },
  {
   "cell_type": "code",
   "execution_count": 2,
   "id": "c6b4140a",
   "metadata": {},
   "outputs": [],
   "source": [
    "def get_rect_array(lat_arr, lon_arr):\n",
    "    latrect = []\n",
    "    for i in range(len(lat_arr)):\n",
    "        if(lat_arr[i] not in latrect):\n",
    "            latrect.append(lat_arr[i])\n",
    "    latrect.sort()\n",
    "    latrect = np.array(latrect)\n",
    "\n",
    "    lonrect = []\n",
    "    for i in range(len(lon_arr)):\n",
    "        if(lon_arr[i] not in lonrect):\n",
    "            lonrect.append(lon_arr[i])\n",
    "    lonrect.sort()\n",
    "    lonrect = np.array(lonrect)\n",
    "\n",
    "    return [latrect, lonrect]\n",
    "\n",
    "def extract_data(latrect, lonrect, grid_data, l):\n",
    "    for i in range(len(grid_data)):\n",
    "        diff_arr_x = np.absolute(lonrect - grid_data[i,0])\n",
    "        id_x = diff_arr_x.argmin()\n",
    "\n",
    "        diff_arr_y = np.absolute(latrect - grid_data[i,1])\n",
    "        id_y = diff_arr_y.argmin()\n",
    "\n",
    "        l[id_y, id_x] = grid_data[i,2]\n",
    "    return l\n",
    "\n",
    "basin_name = 'Brahmaputra'\n",
    "input_path = 'C:\\\\Users\\\\Dell\\\\Ver_0_hari1\\\\code\\\\Processed_data\\\\'\n",
    "x_val = pd.read_csv(input_path+basin_name+'\\\\'+basin_name+'_training.csv', header=None).to_numpy()"
   ]
  },
  {
   "cell_type": "code",
   "execution_count": 3,
   "id": "e283e8d2",
   "metadata": {},
   "outputs": [],
   "source": [
    "x_val = x_val[:,3:len(x_val[1,:])]\n",
    "x_val = x_val.astype('float64')"
   ]
  },
  {
   "cell_type": "code",
   "execution_count": 4,
   "id": "6230ef19",
   "metadata": {},
   "outputs": [],
   "source": [
    "y_val = pd.read_csv(input_path+basin_name+'\\\\'+basin_name+'_training.csv', header=None).to_numpy()\n",
    "y_val = y_val[:,2].astype('int')\n",
    "y_val = np.reshape(y_val, -1)"
   ]
  },
  {
   "cell_type": "code",
   "execution_count": 5,
   "id": "0543c481",
   "metadata": {},
   "outputs": [],
   "source": [
    "### SVC\n",
    "svc_clf = make_pipeline(StandardScaler(), SVC(C=5, kernel = 'rbf', tol=0.001, max_iter=-1, random_state=5))\n",
    "svc_fit = svc_clf.fit(x_val, y_val)\n",
    "\n",
    "score = svc_fit.score(x_val, y_val)\n",
    "params = svc_fit.get_params()\n",
    "\n",
    "y_model_cal = svc_fit.predict(x_val)"
   ]
  },
  {
   "cell_type": "code",
   "execution_count": 7,
   "id": "f7cca187",
   "metadata": {},
   "outputs": [
    {
     "data": {
      "image/png": "[encoded data removed]",
      "text/plain": [
       "<Figure size 432x288 with 1 Axes>"
      ]
     },
     "metadata": {
      "needs_background": "light"
     },
     "output_type": "display_data"
    }
   ],
   "source": [
    "from sklearn.metrics import PrecisionRecallDisplay\n",
    "\n",
    "display = PrecisionRecallDisplay.from_estimator(\n",
    "    svc_fit, x_val, y_val, name=\"rbf\")\n",
    "_ = display.ax_.set_title(\"2-class Precision-Recall curve\")"
   ]
  },
  {
   "cell_type": "code",
   "execution_count": 12,
   "id": "a657f73e",
   "metadata": {},
   "outputs": [
    {
     "data": {
      "text/plain": [
       "0.911457509099541"
      ]
     },
     "execution_count": 12,
     "metadata": {},
     "output_type": "execute_result"
    }
   ],
   "source": [
    "from sklearn.metrics import precision_score\n",
    "\n",
    "precision_score(y_val, y_model_cal, average='weighted')\n"
   ]
  },
  {
   "cell_type": "code",
   "execution_count": 11,
   "id": "e90ea86c",
   "metadata": {},
   "outputs": [
    {
     "data": {
      "text/plain": [
       "0.90625"
      ]
     },
     "execution_count": 11,
     "metadata": {},
     "output_type": "execute_result"
    }
   ],
   "source": [
    "from sklearn.metrics import recall_score\n",
    "recall_score(y_val, y_model_cal, average='weighted')"
   ]
  },
  {
   "cell_type": "code",
   "execution_count": 13,
   "id": "e6c95b36",
   "metadata": {},
   "outputs": [],
   "source": [
    "x_valid = pd.read_csv(input_path+basin_name+'\\\\'+basin_name+'_validation.csv', header=None).to_numpy() ## Reading a csv file with all parameters in each row\n",
    "x_valid = x_valid[:,3:len(x_valid[1,:])]\n",
    "x_valid = x_valid.astype('float64')\n",
    "# print(x_valid.shape)\n",
    "y_valid = pd.read_csv(input_path+basin_name+'\\\\'+basin_name+'_validation.csv', header=None).to_numpy() ## Reading a csv file with all parameters in each row\n",
    "y_valid = y_valid[:,2].astype('int')\n",
    "y_valid = np.reshape(y_valid, -1)\n",
    "\n",
    "y_model_val = svc_fit.predict(x_valid)\n",
    "\n",
    "###### Calculate results\n",
    "score = svc_fit.score(x_valid, y_valid)"
   ]
  },
  {
   "cell_type": "code",
   "execution_count": 14,
   "id": "4b6999d0",
   "metadata": {},
   "outputs": [
    {
     "data": {
      "image/png": "[encoded data removed]",
      "text/plain": [
       "<Figure size 432x288 with 1 Axes>"
      ]
     },
     "metadata": {
      "needs_background": "light"
     },
     "output_type": "display_data"
    }
   ],
   "source": [
    "display = PrecisionRecallDisplay.from_estimator(\n",
    "    svc_fit, x_valid, y_valid, name=\"rbf\")\n",
    "_ = display.ax_.set_title(\"2-class Precision-Recall curve\")"
   ]
  },
  {
   "cell_type": "code",
   "execution_count": 15,
   "id": "f0456b14",
   "metadata": {},
   "outputs": [
    {
     "data": {
      "text/plain": [
       "0.7756892230576441"
      ]
     },
     "execution_count": 15,
     "metadata": {},
     "output_type": "execute_result"
    }
   ],
   "source": [
    "precision_score(y_valid, y_model_val, average='weighted')\n"
   ]
  },
  {
   "cell_type": "code",
   "execution_count": 16,
   "id": "d09d2217",
   "metadata": {},
   "outputs": [
    {
     "data": {
      "text/plain": [
       "0.775"
      ]
     },
     "execution_count": 16,
     "metadata": {},
     "output_type": "execute_result"
    }
   ],
   "source": [
    "recall_score(y_valid, y_model_val, average='weighted')\n"
   ]
  },
  {
   "cell_type": "code",
   "execution_count": null,
   "id": "82462c4b",
   "metadata": {},
   "outputs": [],
   "source": []
  }
 ],
 "metadata": {
  "kernelspec": {
   "display_name": "Python 3",
   "language": "python",
   "name": "python3"
  },
  "language_info": {
   "codemirror_mode": {
    "name": "ipython",
    "version": 3
   },
   "file_extension": ".py",
   "mimetype": "text/x-python",
   "name": "python",
   "nbconvert_exporter": "python",
   "pygments_lexer": "ipython3",
   "version": "3.8.8"
  }
 },
 "nbformat": 4,
 "nbformat_minor": 5
}
